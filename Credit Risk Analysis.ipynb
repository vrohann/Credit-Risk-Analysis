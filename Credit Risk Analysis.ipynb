{
 "cells": [
  {
   "cell_type": "code",
   "execution_count": null,
   "metadata": {},
   "outputs": [],
   "source": [
    "# Importing the libraries\n",
    "import numpy as np\n",
    "import pandas as pd\n",
    "import tensorflow as tf\n",
    "\n",
    "# Importing the dataset\n",
    "dataset=pd.read_csv('../input/german-credit-data-with-risk/german_credit_data.csv')\n",
    "dataset[:] = dataset[:].fillna('nil')\n",
    "dataset['Risk'] = dataset['Risk'].replace(['good'],1)\n",
    "dataset['Risk'] = dataset['Risk'].replace(['bad'],0)\n",
    "X=dataset.iloc[:,1:-1].values\n",
    "Y=dataset.iloc[:,-1].values\n",
    "\n",
    "# Encoding categorical data\n",
    "from sklearn.preprocessing import LabelEncoder\n",
    "le=LabelEncoder()\n",
    "X[:,1]=le.fit_transform(X[:,1])\n",
    "X[:,3]=le.fit_transform(X[:,3])\n",
    "X[:,4]=le.fit_transform(X[:,4])\n",
    "X[:,5]=le.fit_transform(X[:,5])\n",
    "X[:,8]=le.fit_transform(X[:,8])\n",
    "print(X)\n",
    "print(Y)\n",
    "\n",
    "# Splitting the dataset into the Training set and Test set\n",
    "from sklearn.model_selection import train_test_split as tts\n",
    "X_train,X_test, Y_train, Y_test = tts(X, Y, test_size=0.2, random_state=0)\n",
    "\n",
    "# Feature Scaling\n",
    "from sklearn.preprocessing import StandardScaler\n",
    "sc=StandardScaler()\n",
    "X_train=sc.fit_transform(X_train)\n",
    "X_test=sc.transform(X_test)\n",
    "\n",
    "# Building the ANN\n",
    "ann=tf.keras.models.Sequential()\n",
    "ann.add(tf.keras.layers.Dense(units='6', activation='relu'))\n",
    "ann.add(tf.keras.layers.Dense(units='4', activation='relu'))\n",
    "ann.add(tf.keras.layers.Dense(units='1', activation='sigmoid'))\n",
    "\n",
    "# Training the ANN\n",
    "ann.compile(optimizer='adam', loss='binary_crossentropy', metrics=['accuracy'])\n",
    "ann.fit(X_train,Y_train, batch_size=25, epochs=100)\n",
    "\n",
    "# Predicting the Test set results\n",
    "Y_pred=ann.predict(X_test)\n",
    "Y_pred=(Y_pred>0.5)\n",
    "print(np.concatenate((Y_pred.reshape(len(Y_pred),1), Y_test.reshape(len(Y_test),1)),1))\n",
    "\n",
    "# Confusion Matrix and Accuracy Score\n",
    "from sklearn.metrics import confusion_matrix, accuracy_score\n",
    "print('Confusion Matrix:\\n',confusion_matrix(Y_test,Y_pred))\n",
    "print('Accuracy Percentage:',accuracy_score(Y_test, Y_pred)*100,'%')"
   ]
  }
 ],
 "metadata": {
  "kernelspec": {
   "display_name": "Python 3",
   "language": "python",
   "name": "python3"
  },
  "language_info": {
   "codemirror_mode": {
    "name": "ipython",
    "version": 3
   },
   "file_extension": ".py",
   "mimetype": "text/x-python",
   "name": "python",
   "nbconvert_exporter": "python",
   "pygments_lexer": "ipython3",
   "version": "3.8.5"
  }
 },
 "nbformat": 4,
 "nbformat_minor": 4
}
